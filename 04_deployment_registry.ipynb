{
 "cells": [
  {
   "cell_type": "code",
   "execution_count": 2,
   "id": "d4f5abea",
   "metadata": {},
   "outputs": [],
   "source": [
    "from mlflow.tracking import MlflowClient\n",
    "import mlflow\n"
   ]
  },
  {
   "cell_type": "code",
   "execution_count": 3,
   "id": "228daf4c",
   "metadata": {},
   "outputs": [],
   "source": [
    "mlflow.set_tracking_uri(\"http://127.0.0.1:5000\")\n",
    "client = MlflowClient()\n",
    "\n",
    "model_name = \"best_telco_churn_model\"\n",
    "best_version = 17  "
   ]
  },
  {
   "cell_type": "code",
   "execution_count": 4,
   "id": "ebc9fd21",
   "metadata": {},
   "outputs": [
    {
     "name": "stdout",
     "output_type": "stream",
     "text": [
      "Version: 17 | Stage: Production | Run ID: 0d3b762f3abc4799820390f4f139e891\n",
      "Version: 16 | Stage: None | Run ID: 0d3b762f3abc4799820390f4f139e891\n",
      "Version: 15 | Stage: None | Run ID: 0d3b762f3abc4799820390f4f139e891\n",
      "Version: 14 | Stage: None | Run ID: 729875a0e03e4e24b71954293ad46f53\n",
      "Version: 13 | Stage: None | Run ID: bc516a8aa23d4ce1aac23a0df9c8db68\n",
      "Version: 12 | Stage: None | Run ID: 788e39c8453544a18d7062370999e2bd\n",
      "Version: 11 | Stage: None | Run ID: f6c0d13e50054710985f3f8780f8a670\n",
      "Version: 10 | Stage: None | Run ID: b8ddb883fc38439abbc6ade78d9780f3\n",
      "Version: 9 | Stage: None | Run ID: 83471c1d5ccb49969da26387cbd96d98\n",
      "Version: 8 | Stage: None | Run ID: 7ab68a40dc7e4888958dffbc7f3eb326\n",
      "Version: 7 | Stage: None | Run ID: 7cbe02c46e204cbe99dd8e99a89e7f69\n",
      "Version: 6 | Stage: None | Run ID: c04f9e2c16234aef81e7b628bf512e6b\n",
      "Version: 5 | Stage: None | Run ID: d24e6204fce5435dbfb7a54fe4abce1f\n",
      "Version: 4 | Stage: None | Run ID: 17666fd39ac3485aa870d8ea4d5dbe26\n",
      "Version: 3 | Stage: None | Run ID: 1dc44bf4e3da44cfb5500c58d80c4640\n",
      "Version: 2 | Stage: None | Run ID: 691715d3aee74b8484146245c753a731\n",
      "Version: 1 | Stage: None | Run ID: 822dc92295ab481ab40a5e2d67be85a6\n"
     ]
    },
    {
     "name": "stderr",
     "output_type": "stream",
     "text": [
      "C:\\Users\\beyza\\AppData\\Local\\Temp\\ipykernel_31988\\4195161901.py:5: FutureWarning: ``mlflow.tracking.client.MlflowClient.transition_model_version_stage`` is deprecated since 2.9.0. Model registry stages will be removed in a future major release. To learn more about the deprecation of model registry stages, see our migration guide here: https://mlflow.org/docs/latest/model-registry.html#migrating-from-stages\n",
      "  client.transition_model_version_stage(\n"
     ]
    },
    {
     "data": {
      "text/plain": [
       "<ModelVersion: aliases=[], creation_timestamp=1746475428331, current_stage='Production', description=('Version 17 promoted to Production. Best ROC AUC, with balanced dataset using '\n",
       " 'SMOTE.'), last_updated_timestamp=1746478515358, name='best_telco_churn_model', run_id='0d3b762f3abc4799820390f4f139e891', run_link='', source='models:/best_telco_churn_model/15', status='READY', status_message=None, tags={}, user_id='', version='17'>"
      ]
     },
     "execution_count": 4,
     "metadata": {},
     "output_type": "execute_result"
    }
   ],
   "source": [
    "for mv in client.search_model_versions(f\"name='{model_name}'\"):\n",
    "    print(f\"Version: {mv.version} | Stage: {mv.current_stage} | Run ID: {mv.run_id}\")\n",
    "\n",
    "# Production aşamasına geçir\n",
    "client.transition_model_version_stage(\n",
    "    name=model_name,\n",
    "    version=str(best_version),\n",
    "    stage=\"Production\"\n",
    ")\n",
    "\n",
    "# Modele genel açıklama\n",
    "client.update_registered_model(\n",
    "    name=model_name,\n",
    "    description=\"Final Telco Churn model selected after Hyperopt tuning.\"\n",
    ")\n",
    "\n",
    "# Versiyona özel açıklama\n",
    "client.update_model_version(\n",
    "    name=model_name,\n",
    "    version=str(best_version),\n",
    "    description=\"Version 17 promoted to Production. Best ROC AUC, with balanced dataset using SMOTE.\"\n",
    ")"
   ]
  },
  {
   "cell_type": "code",
   "execution_count": null,
   "id": "28238b11",
   "metadata": {},
   "outputs": [],
   "source": []
  }
 ],
 "metadata": {
  "kernelspec": {
   "display_name": "mlops25",
   "language": "python",
   "name": "python3"
  },
  "language_info": {
   "codemirror_mode": {
    "name": "ipython",
    "version": 3
   },
   "file_extension": ".py",
   "mimetype": "text/x-python",
   "name": "python",
   "nbconvert_exporter": "python",
   "pygments_lexer": "ipython3",
   "version": "3.10.16"
  }
 },
 "nbformat": 4,
 "nbformat_minor": 5
}
